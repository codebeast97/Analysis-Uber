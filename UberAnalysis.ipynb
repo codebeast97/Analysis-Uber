{
  "nbformat": 4,
  "nbformat_minor": 0,
  "metadata": {
    "kernelspec": {
      "display_name": "Python 3",
      "language": "python",
      "name": "python3"
    },
    "language_info": {
      "codemirror_mode": {
        "name": "ipython",
        "version": 3
      },
      "file_extension": ".py",
      "mimetype": "text/x-python",
      "name": "python",
      "nbconvert_exporter": "python",
      "pygments_lexer": "ipython3",
      "version": "3.7.6"
    },
    "colab": {
      "name": "UberAnalysis.ipynb",
      "provenance": [],
      "collapsed_sections": []
    }
  },
  "cells": [
    {
      "cell_type": "markdown",
      "metadata": {
        "id": "2khycqEIftwy",
        "colab_type": "text"
      },
      "source": [
        "**UBER DATA ANALYSIS**"
      ]
    },
    {
      "cell_type": "markdown",
      "metadata": {
        "id": "m4w_j9hQgiYS",
        "colab_type": "text"
      },
      "source": [
        "Uber Data analysis between April 2014 and May 2015. The data contains features distinct from those in the set previously released and throughly explored by FiveThirtyEight and the Kaggle community. Check the Jupyter Notebook in this repository to see the contents of the data."
      ]
    },
    {
      "cell_type": "markdown",
      "metadata": {
        "id": "HjKsWUk6juag",
        "colab_type": "text"
      },
      "source": [
        "**Importing Packages**"
      ]
    },
    {
      "cell_type": "code",
      "metadata": {
        "id": "En0uEnQluyRK",
        "colab_type": "code",
        "colab": {
          "base_uri": "https://localhost:8080/",
          "height": 34
        },
        "outputId": "f9ceeb6d-50ee-41ab-954e-b6c2eac78f7a"
      },
      "source": [
        "%pylab inline\n",
        "import pandas\n",
        "import seaborn"
      ],
      "execution_count": null,
      "outputs": [
        {
          "output_type": "stream",
          "text": [
            "Populating the interactive namespace from numpy and matplotlib\n"
          ],
          "name": "stdout"
        }
      ]
    },
    {
      "cell_type": "markdown",
      "metadata": {
        "id": "VEFm4RX0kHlF",
        "colab_type": "text"
      },
      "source": [
        "**Read the CSV file:**"
      ]
    },
    {
      "cell_type": "code",
      "metadata": {
        "id": "ti03JuETuyRR",
        "colab_type": "code",
        "colab": {}
      },
      "source": [
        "data = pandas.read_csv('uber-raw-data-apr14.csv')"
      ],
      "execution_count": null,
      "outputs": []
    },
    {
      "cell_type": "code",
      "metadata": {
        "id": "ri76UY5yuyRV",
        "colab_type": "code",
        "colab": {
          "base_uri": "https://localhost:8080/",
          "height": 195
        },
        "outputId": "b7841a8b-479b-4bdb-c14a-c51d0dc943ee"
      },
      "source": [
        "data.tail()"
      ],
      "execution_count": null,
      "outputs": [
        {
          "output_type": "execute_result",
          "data": {
            "text/html": [
              "<div>\n",
              "<style scoped>\n",
              "    .dataframe tbody tr th:only-of-type {\n",
              "        vertical-align: middle;\n",
              "    }\n",
              "\n",
              "    .dataframe tbody tr th {\n",
              "        vertical-align: top;\n",
              "    }\n",
              "\n",
              "    .dataframe thead th {\n",
              "        text-align: right;\n",
              "    }\n",
              "</style>\n",
              "<table border=\"1\" class=\"dataframe\">\n",
              "  <thead>\n",
              "    <tr style=\"text-align: right;\">\n",
              "      <th></th>\n",
              "      <th>Date/Time</th>\n",
              "      <th>Lat</th>\n",
              "      <th>Lon</th>\n",
              "      <th>Base</th>\n",
              "    </tr>\n",
              "  </thead>\n",
              "  <tbody>\n",
              "    <tr>\n",
              "      <th>564511</th>\n",
              "      <td>4/30/2014 23:22:00</td>\n",
              "      <td>40.7640</td>\n",
              "      <td>-73.9744</td>\n",
              "      <td>B02764</td>\n",
              "    </tr>\n",
              "    <tr>\n",
              "      <th>564512</th>\n",
              "      <td>4/30/2014 23:26:00</td>\n",
              "      <td>40.7629</td>\n",
              "      <td>-73.9672</td>\n",
              "      <td>B02764</td>\n",
              "    </tr>\n",
              "    <tr>\n",
              "      <th>564513</th>\n",
              "      <td>4/30/2014 23:31:00</td>\n",
              "      <td>40.7443</td>\n",
              "      <td>-73.9889</td>\n",
              "      <td>B02764</td>\n",
              "    </tr>\n",
              "    <tr>\n",
              "      <th>564514</th>\n",
              "      <td>4/30/2014 23:32:00</td>\n",
              "      <td>40.6756</td>\n",
              "      <td>-73.9405</td>\n",
              "      <td>B02764</td>\n",
              "    </tr>\n",
              "    <tr>\n",
              "      <th>564515</th>\n",
              "      <td>4/30/2014 23:48:00</td>\n",
              "      <td>40.6880</td>\n",
              "      <td>-73.9608</td>\n",
              "      <td>B02764</td>\n",
              "    </tr>\n",
              "  </tbody>\n",
              "</table>\n",
              "</div>"
            ],
            "text/plain": [
              "                 Date/Time      Lat      Lon    Base\n",
              "564511  4/30/2014 23:22:00  40.7640 -73.9744  B02764\n",
              "564512  4/30/2014 23:26:00  40.7629 -73.9672  B02764\n",
              "564513  4/30/2014 23:31:00  40.7443 -73.9889  B02764\n",
              "564514  4/30/2014 23:32:00  40.6756 -73.9405  B02764\n",
              "564515  4/30/2014 23:48:00  40.6880 -73.9608  B02764"
            ]
          },
          "metadata": {
            "tags": []
          },
          "execution_count": 25
        }
      ]
    },
    {
      "cell_type": "markdown",
      "metadata": {
        "id": "KEThRn55kmQQ",
        "colab_type": "text"
      },
      "source": [
        "**Cleaning the Data**"
      ]
    },
    {
      "cell_type": "code",
      "metadata": {
        "id": "Z9f9QXG5uyRZ",
        "colab_type": "code",
        "colab": {}
      },
      "source": [
        "data['Date/Time'] = data['Date/Time'].map(pandas.to_datetime)"
      ],
      "execution_count": null,
      "outputs": []
    },
    {
      "cell_type": "code",
      "metadata": {
        "id": "yWzVxOKZuyRc",
        "colab_type": "code",
        "colab": {
          "base_uri": "https://localhost:8080/",
          "height": 195
        },
        "outputId": "a22dd81d-169b-400f-c957-d7372758f3a9"
      },
      "source": [
        "data.tail()"
      ],
      "execution_count": null,
      "outputs": [
        {
          "output_type": "execute_result",
          "data": {
            "text/html": [
              "<div>\n",
              "<style scoped>\n",
              "    .dataframe tbody tr th:only-of-type {\n",
              "        vertical-align: middle;\n",
              "    }\n",
              "\n",
              "    .dataframe tbody tr th {\n",
              "        vertical-align: top;\n",
              "    }\n",
              "\n",
              "    .dataframe thead th {\n",
              "        text-align: right;\n",
              "    }\n",
              "</style>\n",
              "<table border=\"1\" class=\"dataframe\">\n",
              "  <thead>\n",
              "    <tr style=\"text-align: right;\">\n",
              "      <th></th>\n",
              "      <th>Date/Time</th>\n",
              "      <th>Lat</th>\n",
              "      <th>Lon</th>\n",
              "      <th>Base</th>\n",
              "    </tr>\n",
              "  </thead>\n",
              "  <tbody>\n",
              "    <tr>\n",
              "      <th>564511</th>\n",
              "      <td>2014-04-30 23:22:00</td>\n",
              "      <td>40.7640</td>\n",
              "      <td>-73.9744</td>\n",
              "      <td>B02764</td>\n",
              "    </tr>\n",
              "    <tr>\n",
              "      <th>564512</th>\n",
              "      <td>2014-04-30 23:26:00</td>\n",
              "      <td>40.7629</td>\n",
              "      <td>-73.9672</td>\n",
              "      <td>B02764</td>\n",
              "    </tr>\n",
              "    <tr>\n",
              "      <th>564513</th>\n",
              "      <td>2014-04-30 23:31:00</td>\n",
              "      <td>40.7443</td>\n",
              "      <td>-73.9889</td>\n",
              "      <td>B02764</td>\n",
              "    </tr>\n",
              "    <tr>\n",
              "      <th>564514</th>\n",
              "      <td>2014-04-30 23:32:00</td>\n",
              "      <td>40.6756</td>\n",
              "      <td>-73.9405</td>\n",
              "      <td>B02764</td>\n",
              "    </tr>\n",
              "    <tr>\n",
              "      <th>564515</th>\n",
              "      <td>2014-04-30 23:48:00</td>\n",
              "      <td>40.6880</td>\n",
              "      <td>-73.9608</td>\n",
              "      <td>B02764</td>\n",
              "    </tr>\n",
              "  </tbody>\n",
              "</table>\n",
              "</div>"
            ],
            "text/plain": [
              "                 Date/Time      Lat      Lon    Base\n",
              "564511 2014-04-30 23:22:00  40.7640 -73.9744  B02764\n",
              "564512 2014-04-30 23:26:00  40.7629 -73.9672  B02764\n",
              "564513 2014-04-30 23:31:00  40.7443 -73.9889  B02764\n",
              "564514 2014-04-30 23:32:00  40.6756 -73.9405  B02764\n",
              "564515 2014-04-30 23:48:00  40.6880 -73.9608  B02764"
            ]
          },
          "metadata": {
            "tags": []
          },
          "execution_count": 27
        }
      ]
    },
    {
      "cell_type": "code",
      "metadata": {
        "id": "z01_Lc-2uyRg",
        "colab_type": "code",
        "colab": {}
      },
      "source": [
        "def get_dom(dt):\n",
        "    return dt.day \n",
        "\n",
        "data['dom'] = data['Date/Time'].map(get_dom)"
      ],
      "execution_count": null,
      "outputs": []
    },
    {
      "cell_type": "code",
      "metadata": {
        "id": "7MxTtVujuyRj",
        "colab_type": "code",
        "colab": {
          "base_uri": "https://localhost:8080/",
          "height": 195
        },
        "outputId": "bd8696c2-f457-4f70-e363-702a1dbc7c91"
      },
      "source": [
        "data.tail()"
      ],
      "execution_count": null,
      "outputs": [
        {
          "output_type": "execute_result",
          "data": {
            "text/html": [
              "<div>\n",
              "<style scoped>\n",
              "    .dataframe tbody tr th:only-of-type {\n",
              "        vertical-align: middle;\n",
              "    }\n",
              "\n",
              "    .dataframe tbody tr th {\n",
              "        vertical-align: top;\n",
              "    }\n",
              "\n",
              "    .dataframe thead th {\n",
              "        text-align: right;\n",
              "    }\n",
              "</style>\n",
              "<table border=\"1\" class=\"dataframe\">\n",
              "  <thead>\n",
              "    <tr style=\"text-align: right;\">\n",
              "      <th></th>\n",
              "      <th>Date/Time</th>\n",
              "      <th>Lat</th>\n",
              "      <th>Lon</th>\n",
              "      <th>Base</th>\n",
              "      <th>dom</th>\n",
              "    </tr>\n",
              "  </thead>\n",
              "  <tbody>\n",
              "    <tr>\n",
              "      <th>564511</th>\n",
              "      <td>2014-04-30 23:22:00</td>\n",
              "      <td>40.7640</td>\n",
              "      <td>-73.9744</td>\n",
              "      <td>B02764</td>\n",
              "      <td>30</td>\n",
              "    </tr>\n",
              "    <tr>\n",
              "      <th>564512</th>\n",
              "      <td>2014-04-30 23:26:00</td>\n",
              "      <td>40.7629</td>\n",
              "      <td>-73.9672</td>\n",
              "      <td>B02764</td>\n",
              "      <td>30</td>\n",
              "    </tr>\n",
              "    <tr>\n",
              "      <th>564513</th>\n",
              "      <td>2014-04-30 23:31:00</td>\n",
              "      <td>40.7443</td>\n",
              "      <td>-73.9889</td>\n",
              "      <td>B02764</td>\n",
              "      <td>30</td>\n",
              "    </tr>\n",
              "    <tr>\n",
              "      <th>564514</th>\n",
              "      <td>2014-04-30 23:32:00</td>\n",
              "      <td>40.6756</td>\n",
              "      <td>-73.9405</td>\n",
              "      <td>B02764</td>\n",
              "      <td>30</td>\n",
              "    </tr>\n",
              "    <tr>\n",
              "      <th>564515</th>\n",
              "      <td>2014-04-30 23:48:00</td>\n",
              "      <td>40.6880</td>\n",
              "      <td>-73.9608</td>\n",
              "      <td>B02764</td>\n",
              "      <td>30</td>\n",
              "    </tr>\n",
              "  </tbody>\n",
              "</table>\n",
              "</div>"
            ],
            "text/plain": [
              "                 Date/Time      Lat      Lon    Base  dom\n",
              "564511 2014-04-30 23:22:00  40.7640 -73.9744  B02764   30\n",
              "564512 2014-04-30 23:26:00  40.7629 -73.9672  B02764   30\n",
              "564513 2014-04-30 23:31:00  40.7443 -73.9889  B02764   30\n",
              "564514 2014-04-30 23:32:00  40.6756 -73.9405  B02764   30\n",
              "564515 2014-04-30 23:48:00  40.6880 -73.9608  B02764   30"
            ]
          },
          "metadata": {
            "tags": []
          },
          "execution_count": 29
        }
      ]
    },
    {
      "cell_type": "code",
      "metadata": {
        "id": "Hov6VWhHuyRn",
        "colab_type": "code",
        "colab": {}
      },
      "source": [
        "def get_hour(dt):\n",
        "    return dt.hour\n",
        "\n",
        "data['hour'] = data['Date/Time'].map(get_hour)"
      ],
      "execution_count": null,
      "outputs": []
    },
    {
      "cell_type": "code",
      "metadata": {
        "id": "ywekqx9tuyRr",
        "colab_type": "code",
        "colab": {}
      },
      "source": [
        "\n",
        "def get_weekday(dt):\n",
        "    return dt.weekday()\n",
        "\n",
        "data['weekday'] = data['Date/Time'].map(get_weekday)"
      ],
      "execution_count": null,
      "outputs": []
    },
    {
      "cell_type": "code",
      "metadata": {
        "id": "gg388-ZeuyRu",
        "colab_type": "code",
        "colab": {
          "base_uri": "https://localhost:8080/",
          "height": 195
        },
        "outputId": "21d326c9-b9dd-41a5-b47c-67b2ae3ab27f"
      },
      "source": [
        "data.tail()"
      ],
      "execution_count": null,
      "outputs": [
        {
          "output_type": "execute_result",
          "data": {
            "text/html": [
              "<div>\n",
              "<style scoped>\n",
              "    .dataframe tbody tr th:only-of-type {\n",
              "        vertical-align: middle;\n",
              "    }\n",
              "\n",
              "    .dataframe tbody tr th {\n",
              "        vertical-align: top;\n",
              "    }\n",
              "\n",
              "    .dataframe thead th {\n",
              "        text-align: right;\n",
              "    }\n",
              "</style>\n",
              "<table border=\"1\" class=\"dataframe\">\n",
              "  <thead>\n",
              "    <tr style=\"text-align: right;\">\n",
              "      <th></th>\n",
              "      <th>Date/Time</th>\n",
              "      <th>Lat</th>\n",
              "      <th>Lon</th>\n",
              "      <th>Base</th>\n",
              "      <th>dom</th>\n",
              "      <th>hour</th>\n",
              "      <th>weekday</th>\n",
              "    </tr>\n",
              "  </thead>\n",
              "  <tbody>\n",
              "    <tr>\n",
              "      <th>564511</th>\n",
              "      <td>2014-04-30 23:22:00</td>\n",
              "      <td>40.7640</td>\n",
              "      <td>-73.9744</td>\n",
              "      <td>B02764</td>\n",
              "      <td>30</td>\n",
              "      <td>23</td>\n",
              "      <td>2</td>\n",
              "    </tr>\n",
              "    <tr>\n",
              "      <th>564512</th>\n",
              "      <td>2014-04-30 23:26:00</td>\n",
              "      <td>40.7629</td>\n",
              "      <td>-73.9672</td>\n",
              "      <td>B02764</td>\n",
              "      <td>30</td>\n",
              "      <td>23</td>\n",
              "      <td>2</td>\n",
              "    </tr>\n",
              "    <tr>\n",
              "      <th>564513</th>\n",
              "      <td>2014-04-30 23:31:00</td>\n",
              "      <td>40.7443</td>\n",
              "      <td>-73.9889</td>\n",
              "      <td>B02764</td>\n",
              "      <td>30</td>\n",
              "      <td>23</td>\n",
              "      <td>2</td>\n",
              "    </tr>\n",
              "    <tr>\n",
              "      <th>564514</th>\n",
              "      <td>2014-04-30 23:32:00</td>\n",
              "      <td>40.6756</td>\n",
              "      <td>-73.9405</td>\n",
              "      <td>B02764</td>\n",
              "      <td>30</td>\n",
              "      <td>23</td>\n",
              "      <td>2</td>\n",
              "    </tr>\n",
              "    <tr>\n",
              "      <th>564515</th>\n",
              "      <td>2014-04-30 23:48:00</td>\n",
              "      <td>40.6880</td>\n",
              "      <td>-73.9608</td>\n",
              "      <td>B02764</td>\n",
              "      <td>30</td>\n",
              "      <td>23</td>\n",
              "      <td>2</td>\n",
              "    </tr>\n",
              "  </tbody>\n",
              "</table>\n",
              "</div>"
            ],
            "text/plain": [
              "                 Date/Time      Lat      Lon    Base  dom  hour  weekday\n",
              "564511 2014-04-30 23:22:00  40.7640 -73.9744  B02764   30    23        2\n",
              "564512 2014-04-30 23:26:00  40.7629 -73.9672  B02764   30    23        2\n",
              "564513 2014-04-30 23:31:00  40.7443 -73.9889  B02764   30    23        2\n",
              "564514 2014-04-30 23:32:00  40.6756 -73.9405  B02764   30    23        2\n",
              "564515 2014-04-30 23:48:00  40.6880 -73.9608  B02764   30    23        2"
            ]
          },
          "metadata": {
            "tags": []
          },
          "execution_count": 32
        }
      ]
    },
    {
      "cell_type": "markdown",
      "metadata": {
        "id": "YzUktdPgk9AW",
        "colab_type": "text"
      },
      "source": [
        "**Uber Data Analysis showed in below graph:**"
      ]
    },
    {
      "cell_type": "markdown",
      "metadata": {
        "id": "Y2pmR77hleQQ",
        "colab_type": "text"
      },
      "source": [
        "1:Bar Chart of Day"
      ]
    },
    {
      "cell_type": "code",
      "metadata": {
        "id": "r99k42TguyRy",
        "colab_type": "code",
        "colab": {
          "base_uri": "https://localhost:8080/",
          "height": 312
        },
        "outputId": "b2893e04-a9e6-43eb-a885-96b931e7b71f"
      },
      "source": [
        "hist(data.dom,bins=30,rwidth=.8, range=(0.5, 30.5))\n",
        "xlabel('Days')\n",
        "ylabel('frequency')\n",
        "title('uber - Apr 2014')"
      ],
      "execution_count": null,
      "outputs": [
        {
          "output_type": "execute_result",
          "data": {
            "text/plain": [
              "Text(0.5, 1.0, 'uber - Apr 2014')"
            ]
          },
          "metadata": {
            "tags": []
          },
          "execution_count": 33
        },
        {
          "output_type": "display_data",
          "data": {
            "image/png": "[encoded data removed]",
            "text/plain": [
              "<Figure size 432x288 with 1 Axes>"
            ]
          },
          "metadata": {
            "tags": [],
            "needs_background": "light"
          }
        }
      ]
    },
    {
      "cell_type": "markdown",
      "metadata": {
        "id": "UjAjUQpJmU0y",
        "colab_type": "text"
      },
      "source": [
        "2:Line Chart of Day"
      ]
    },
    {
      "cell_type": "code",
      "metadata": {
        "id": "EAEUpomkuyR1",
        "colab_type": "code",
        "colab": {
          "base_uri": "https://localhost:8080/",
          "height": 312
        },
        "outputId": "0ca90c78-3b65-4308-e288-6bd7e64c213a"
      },
      "source": [
        "def count_rows(rows):\n",
        "    return len(rows)\n",
        "\n",
        "by_date = data.groupby('dom').apply(count_rows)\n",
        "xlabel('Days')\n",
        "ylabel('frequency')\n",
        "title('uber - Apr 2014')\n",
        "plot(by_date)"
      ],
      "execution_count": null,
      "outputs": [
        {
          "output_type": "execute_result",
          "data": {
            "text/plain": [
              "[<matplotlib.lines.Line2D at 0x7f4f60e58eb8>]"
            ]
          },
          "metadata": {
            "tags": []
          },
          "execution_count": 34
        },
        {
          "output_type": "display_data",
          "data": {
            "image/png": "[encoded data removed]",
            "text/plain": [
              "<Figure size 432x288 with 1 Axes>"
            ]
          },
          "metadata": {
            "tags": [],
            "needs_background": "light"
          }
        }
      ]
    },
    {
      "cell_type": "markdown",
      "metadata": {
        "id": "cAE7V3g-mvsx",
        "colab_type": "text"
      },
      "source": [
        "3:Bar Chart of Hours"
      ]
    },
    {
      "cell_type": "code",
      "metadata": {
        "id": "EOWh8IzLuyR5",
        "colab_type": "code",
        "colab": {
          "base_uri": "https://localhost:8080/",
          "height": 313
        },
        "outputId": "4c60562f-b128-4f21-a443-f28db425683f"
      },
      "source": [
        "xlabel('Hours')\n",
        "ylabel('frequency')\n",
        "title('uber - Apr 2014')\n",
        "hist(data.hour, rwidth=0.5, bins=24, range=(0.5, 24.5))\n",
        ";"
      ],
      "execution_count": null,
      "outputs": [
        {
          "output_type": "execute_result",
          "data": {
            "application/vnd.google.colaboratory.intrinsic": {
              "type": "string"
            },
            "text/plain": [
              "''"
            ]
          },
          "metadata": {
            "tags": []
          },
          "execution_count": 35
        },
        {
          "output_type": "display_data",
          "data": {
            "image/png": "[encoded data removed]",
            "text/plain": [
              "<Figure size 432x288 with 1 Axes>"
            ]
          },
          "metadata": {
            "tags": [],
            "needs_background": "light"
          }
        }
      ]
    },
    {
      "cell_type": "markdown",
      "metadata": {
        "id": "KFQPekkcm1Uu",
        "colab_type": "text"
      },
      "source": [
        "4:Bar Chart of Weekday"
      ]
    },
    {
      "cell_type": "code",
      "metadata": {
        "id": "01Sx0GKNuyR8",
        "colab_type": "code",
        "colab": {
          "base_uri": "https://localhost:8080/",
          "height": 283
        },
        "outputId": "887d0eaa-6dc6-40e7-dbb3-77efb13c4646"
      },
      "source": [
        "hist(data.weekday, bins=7, range =(-0.5,6.5), rwidth=.8)\n",
        "xticks(range(7), 'Mon Tue Wed Thu Fri Sat Sun'.split())\n",
        ";"
      ],
      "execution_count": null,
      "outputs": [
        {
          "output_type": "execute_result",
          "data": {
            "application/vnd.google.colaboratory.intrinsic": {
              "type": "string"
            },
            "text/plain": [
              "''"
            ]
          },
          "metadata": {
            "tags": []
          },
          "execution_count": 36
        },
        {
          "output_type": "display_data",
          "data": {
            "image/png": "[encoded data removed]",
            "text/plain": [
              "<Figure size 432x288 with 1 Axes>"
            ]
          },
          "metadata": {
            "tags": [],
            "needs_background": "light"
          }
        }
      ]
    },
    {
      "cell_type": "markdown",
      "metadata": {
        "id": "GREfgGSppTOC",
        "colab_type": "text"
      },
      "source": [
        "5:Histogram of Latitude"
      ]
    },
    {
      "cell_type": "code",
      "metadata": {
        "id": "HJVDVw-vuySA",
        "colab_type": "code",
        "colab": {
          "base_uri": "https://localhost:8080/",
          "height": 265
        },
        "outputId": "79a7481d-7af3-4f65-ee82-0fd1d36507f1"
      },
      "source": [
        "hist(data['Lat'], bins=100,color = 'teal', range = (40.5, 41));"
      ],
      "execution_count": null,
      "outputs": [
        {
          "output_type": "display_data",
          "data": {
            "image/png": "[encoded data removed]",
            "text/plain": [
              "<Figure size 432x288 with 1 Axes>"
            ]
          },
          "metadata": {
            "tags": [],
            "needs_background": "light"
          }
        }
      ]
    },
    {
      "cell_type": "markdown",
      "metadata": {
        "id": "yZUlOv75phtF",
        "colab_type": "text"
      },
      "source": [
        "6:Histogram of Longitude"
      ]
    },
    {
      "cell_type": "code",
      "metadata": {
        "id": "NvgCk9vDoYrC",
        "colab_type": "code",
        "colab": {
          "base_uri": "https://localhost:8080/",
          "height": 268
        },
        "outputId": "74f7b5de-9fcb-4b69-b02c-d7e61ca8b2aa"
      },
      "source": [
        "hist(data['Lon'], bins=100,color = '#FF0059', range = (-74.1, -73.9));"
      ],
      "execution_count": null,
      "outputs": [
        {
          "output_type": "display_data",
          "data": {
            "image/png": "[encoded data removed]",
            "text/plain": [
              "<Figure size 432x288 with 1 Axes>"
            ]
          },
          "metadata": {
            "tags": [],
            "needs_background": "light"
          }
        }
      ]
    },
    {
      "cell_type": "markdown",
      "metadata": {
        "id": "4mCy1NPGpqfi",
        "colab_type": "text"
      },
      "source": [
        "7:Combination of longitude and latitude"
      ]
    },
    {
      "cell_type": "code",
      "metadata": {
        "id": "cuyD4DJfokXg",
        "colab_type": "code",
        "colab": {
          "base_uri": "https://localhost:8080/",
          "height": 282
        },
        "outputId": "02c76041-387b-45ff-94cb-10c9ea671b14"
      },
      "source": [
        "hist(data['Lon'], bins=100, range = (-74.1, -73.9), color='teal', alpha=.6)\n",
        "twiny()\n",
        "hist(data['Lat'], bins=100, range = (40.5, 41), color='#FF0059', alpha=.5);"
      ],
      "execution_count": null,
      "outputs": [
        {
          "output_type": "display_data",
          "data": {
            "image/png": "[encoded data removed]",
            "text/plain": [
              "<Figure size 432x288 with 2 Axes>"
            ]
          },
          "metadata": {
            "tags": [],
            "needs_background": "light"
          }
        }
      ]
    },
    {
      "cell_type": "markdown",
      "metadata": {
        "id": "iVBDYozQp6pQ",
        "colab_type": "text"
      },
      "source": [
        "8:Scatterplot of Latitude and Longitude"
      ]
    },
    {
      "cell_type": "code",
      "metadata": {
        "id": "JNR8SWbKuySD",
        "colab_type": "code",
        "colab": {
          "base_uri": "https://localhost:8080/",
          "height": 282
        },
        "outputId": "6ad009ff-8005-4164-9b51-2f308a6096c3"
      },
      "source": [
        "plot(data['Lat'],data['Lon'], '.')"
      ],
      "execution_count": null,
      "outputs": [
        {
          "output_type": "execute_result",
          "data": {
            "text/plain": [
              "[<matplotlib.lines.Line2D at 0x7f4f30935470>]"
            ]
          },
          "metadata": {
            "tags": []
          },
          "execution_count": 38
        },
        {
          "output_type": "display_data",
          "data": {
            "image/png": "[encoded data removed]",
            "text/plain": [
              "<Figure size 432x288 with 1 Axes>"
            ]
          },
          "metadata": {
            "tags": [],
            "needs_background": "light"
          }
        }
      ]
    }
  ]
}